{
 "cells": [
  {
   "cell_type": "code",
   "execution_count": 1,
   "metadata": {},
   "outputs": [],
   "source": [
    "import pandas as pd\n",
    "import numpy as np\n",
    "import warnings\n",
    "warnings.filterwarnings('ignore')"
   ]
  },
  {
   "cell_type": "markdown",
   "metadata": {},
   "source": [
    "## Build a ML productionized model where it takes: Title, Location, Duration(Months), Skills u have, perks u need to give a Monthly Stipend estimate."
   ]
  },
  {
   "cell_type": "code",
   "execution_count": 525,
   "metadata": {},
   "outputs": [
    {
     "data": {
      "text/html": [
       "<div>\n",
       "<style scoped>\n",
       "    .dataframe tbody tr th:only-of-type {\n",
       "        vertical-align: middle;\n",
       "    }\n",
       "\n",
       "    .dataframe tbody tr th {\n",
       "        vertical-align: top;\n",
       "    }\n",
       "\n",
       "    .dataframe thead th {\n",
       "        text-align: right;\n",
       "    }\n",
       "</style>\n",
       "<table border=\"1\" class=\"dataframe\">\n",
       "  <thead>\n",
       "    <tr style=\"text-align: right;\">\n",
       "      <th></th>\n",
       "      <th>Title</th>\n",
       "      <th>Company</th>\n",
       "      <th>Location</th>\n",
       "      <th>Duration</th>\n",
       "      <th>Stipend</th>\n",
       "      <th>Apply By</th>\n",
       "      <th>Applicants</th>\n",
       "      <th>Skills Required</th>\n",
       "      <th>Perks</th>\n",
       "      <th>Number of Openings</th>\n",
       "      <th>Link</th>\n",
       "    </tr>\n",
       "  </thead>\n",
       "  <tbody>\n",
       "    <tr>\n",
       "      <th>0</th>\n",
       "      <td>Fundraising</td>\n",
       "      <td>Tare Zameen Foundation</td>\n",
       "      <td>Work From Home</td>\n",
       "      <td>1 Month</td>\n",
       "      <td>1000 /month +  Incentives</td>\n",
       "      <td>18 Feb' 22</td>\n",
       "      <td>390 applicants</td>\n",
       "      <td>NaN</td>\n",
       "      <td>Certificate , Letter of recommendation , Flexi...</td>\n",
       "      <td>200.0</td>\n",
       "      <td>https://internshala.com/internship/detail/fund...</td>\n",
       "    </tr>\n",
       "    <tr>\n",
       "      <th>1</th>\n",
       "      <td>Business Development</td>\n",
       "      <td>Internshala</td>\n",
       "      <td>Gurgaon</td>\n",
       "      <td>6 Months</td>\n",
       "      <td>20000 /month</td>\n",
       "      <td>22 Feb' 22</td>\n",
       "      <td>346 applicants</td>\n",
       "      <td>MS-Office ,</td>\n",
       "      <td>Certificate , Informal dress code , 5 days a w...</td>\n",
       "      <td>2.0</td>\n",
       "      <td>https://internshala.com/internship/detail/busi...</td>\n",
       "    </tr>\n",
       "    <tr>\n",
       "      <th>2</th>\n",
       "      <td>Campus Ambassador</td>\n",
       "      <td>International Model United Nations</td>\n",
       "      <td>Work From Home</td>\n",
       "      <td>1 Month</td>\n",
       "      <td>Performance Based</td>\n",
       "      <td>2 Mar' 22</td>\n",
       "      <td>654 applicants</td>\n",
       "      <td>NaN</td>\n",
       "      <td>Certificate , Letter of recommendation , Flexi...</td>\n",
       "      <td>3000.0</td>\n",
       "      <td>https://internshala.com/internship/detail/camp...</td>\n",
       "    </tr>\n",
       "  </tbody>\n",
       "</table>\n",
       "</div>"
      ],
      "text/plain": [
       "                  Title                             Company        Location  \\\n",
       "0           Fundraising              Tare Zameen Foundation  Work From Home   \n",
       "1  Business Development                         Internshala         Gurgaon   \n",
       "2     Campus Ambassador  International Model United Nations  Work From Home   \n",
       "\n",
       "   Duration                    Stipend    Apply By      Applicants  \\\n",
       "0   1 Month  1000 /month +  Incentives  18 Feb' 22  390 applicants   \n",
       "1  6 Months               20000 /month  22 Feb' 22  346 applicants   \n",
       "2   1 Month          Performance Based   2 Mar' 22  654 applicants   \n",
       "\n",
       "  Skills Required                                              Perks  \\\n",
       "0             NaN  Certificate , Letter of recommendation , Flexi...   \n",
       "1    MS-Office ,   Certificate , Informal dress code , 5 days a w...   \n",
       "2             NaN  Certificate , Letter of recommendation , Flexi...   \n",
       "\n",
       "   Number of Openings                                               Link  \n",
       "0               200.0  https://internshala.com/internship/detail/fund...  \n",
       "1                 2.0  https://internshala.com/internship/detail/busi...  \n",
       "2              3000.0  https://internshala.com/internship/detail/camp...  "
      ]
     },
     "execution_count": 525,
     "metadata": {},
     "output_type": "execute_result"
    }
   ],
   "source": [
    "df = pd.read_excel(\"internshala_scraped_raw.xls\")\n",
    "df.head(3)"
   ]
  },
  {
   "cell_type": "markdown",
   "metadata": {},
   "source": [
    "### Fix stipend:"
   ]
  },
  {
   "cell_type": "code",
   "execution_count": 526,
   "metadata": {},
   "outputs": [],
   "source": [
    "#added incentives column (1 if incentives or performance based in stipend)\n",
    "df[\"Incentives\"] = df[\"Stipend\"].apply(lambda x: 1 if \"Incentives\" in x or \"Performance Based\" in x else 0)"
   ]
  },
  {
   "cell_type": "code",
   "execution_count": 527,
   "metadata": {},
   "outputs": [],
   "source": [
    "#removed incentives from stipend\n",
    "df[\"Stipend\"] = df[\"Stipend\"].str.replace(\"  Incentives\", \"\")"
   ]
  },
  {
   "cell_type": "code",
   "execution_count": 528,
   "metadata": {},
   "outputs": [],
   "source": [
    "#removed performance based and replaced with 0\n",
    "df[\"Stipend\"] = df[\"Stipend\"].str.replace(\"Performance Based\", \"0\")"
   ]
  },
  {
   "cell_type": "code",
   "execution_count": 529,
   "metadata": {},
   "outputs": [],
   "source": [
    "#replaced unpaid with 0\n",
    "df[\"Stipend\"] = df[\"Stipend\"].str.replace(\"Unpaid\", \"0\")"
   ]
  },
  {
   "cell_type": "code",
   "execution_count": 530,
   "metadata": {},
   "outputs": [],
   "source": [
    "#replaced not provided with 0\n",
    "df[\"Stipend\"] = df[\"Stipend\"].str.replace(\"Not provided\", \"0\")"
   ]
  },
  {
   "cell_type": "code",
   "execution_count": 531,
   "metadata": {},
   "outputs": [],
   "source": [
    "#added separate column for lumpsum amount to do calculations of per month\n",
    "df[\"Lumpsum\"] = df[\"Stipend\"].apply(lambda x: x.split(\"lump sum\")[0] if \"lump sum\" in x else 0)"
   ]
  },
  {
   "cell_type": "code",
   "execution_count": 532,
   "metadata": {},
   "outputs": [],
   "source": [
    "#removed word lump sum from stipend\n",
    "df[\"Stipend\"] = df[\"Stipend\"].str.replace(\"lump sum\", \"\")"
   ]
  },
  {
   "cell_type": "code",
   "execution_count": 533,
   "metadata": {},
   "outputs": [],
   "source": [
    "#added separate column for weekly amount to do calculation of per month\n",
    "df[\"Weekly\"] = df[\"Stipend\"].apply(lambda x: x.split(\"/week\")[0] if \"/week\" in x else 0)"
   ]
  },
  {
   "cell_type": "code",
   "execution_count": 534,
   "metadata": {},
   "outputs": [],
   "source": [
    "#removed word week from stipend\n",
    "df[\"Stipend\"] = df[\"Stipend\"].str.replace(\"/week\",\"\")"
   ]
  },
  {
   "cell_type": "code",
   "execution_count": 535,
   "metadata": {},
   "outputs": [],
   "source": [
    "#added separate column for per design amount to do calculation of per month\n",
    "df[\"Design\"] = df[\"Stipend\"].apply(lambda x: x.split(\"/Design\")[0] if \"/Design\" in x else 0)"
   ]
  },
  {
   "cell_type": "code",
   "execution_count": 536,
   "metadata": {},
   "outputs": [],
   "source": [
    "#removed the word design from stipend\n",
    "df[\"Stipend\"] = df[\"Stipend\"].str.replace(\"/Design\", \"\")"
   ]
  },
  {
   "cell_type": "code",
   "execution_count": 537,
   "metadata": {},
   "outputs": [],
   "source": [
    "#removed the word month from stipend\n",
    "df[\"Stipend\"] = df[\"Stipend\"].str.replace(\"/month\", \"\")"
   ]
  },
  {
   "cell_type": "code",
   "execution_count": 538,
   "metadata": {},
   "outputs": [
    {
     "name": "stderr",
     "output_type": "stream",
     "text": [
      "C:\\Users\\rishi\\AppData\\Local\\Temp\\ipykernel_18880\\3249886218.py:2: FutureWarning: The default value of regex will change from True to False in a future version. In addition, single character regular expressions will *not* be treated as literal strings when regex=True.\n",
      "  df[\"Stipend\"] = df[\"Stipend\"].str.replace(\"+\", \"\")\n"
     ]
    }
   ],
   "source": [
    "#removed the symbol \"+\" from stipend\n",
    "df[\"Stipend\"] = df[\"Stipend\"].str.replace(\"+\", \"\")"
   ]
  },
  {
   "cell_type": "code",
   "execution_count": 539,
   "metadata": {},
   "outputs": [],
   "source": [
    "#striped blank spaces from stipend to do calculations w/o exceptions\n",
    "df[\"Stipend\"] = df[\"Stipend\"].str.strip()"
   ]
  },
  {
   "cell_type": "code",
   "execution_count": 540,
   "metadata": {},
   "outputs": [],
   "source": [
    "#averaged the stipend for range values\n",
    "df[\"Stipend\"] = df[\"Stipend\"].apply(lambda x: (int(x.split(\"-\")[0]) + int(x.split(\"-\")[1]))/2 if \"-\" in x else x)"
   ]
  },
  {
   "cell_type": "code",
   "execution_count": 541,
   "metadata": {},
   "outputs": [],
   "source": [
    "#replaced not provided duration to 0 (will take the average going ahead)\n",
    "df[\"Duration\"] = df[\"Duration\"].str.replace(\"Not Provided\",\"0\")"
   ]
  },
  {
   "cell_type": "code",
   "execution_count": 542,
   "metadata": {},
   "outputs": [],
   "source": [
    "#made duration monthly column to store conversions in month for further calculations\n",
    "df[\"Duration in Month\"] = df[\"Duration\"].apply(lambda x: x.split(\" \")[0] if \"Month\" in x else float(x.split(\" \")[0].strip()) / 4.345)"
   ]
  },
  {
   "cell_type": "code",
   "execution_count": 543,
   "metadata": {},
   "outputs": [],
   "source": [
    "#averaged ranged lumpsum values\n",
    "df[\"Lumpsum\"] = df[\"Lumpsum\"].apply(lambda x: (int(x.split(\"-\")[0]) + int(x.split(\"-\")[1]))/2 if \"-\" in str(x) else x)"
   ]
  },
  {
   "cell_type": "code",
   "execution_count": 544,
   "metadata": {},
   "outputs": [],
   "source": [
    "#converted to float for ease in calculations\n",
    "df[\"Duration in Month\"] = df[\"Duration in Month\"].astype(\"float\")\n",
    "df[\"Lumpsum\"] = df[\"Lumpsum\"].astype(\"float\")"
   ]
  },
  {
   "cell_type": "code",
   "execution_count": 545,
   "metadata": {},
   "outputs": [],
   "source": [
    "#divided lumpsum by monthly duration to get montly amount\n",
    "df[\"Lumpsum to monthly\"] = (df[\"Lumpsum\"]) / (df[\"Duration in Month\"])\n"
   ]
  },
  {
   "cell_type": "code",
   "execution_count": 546,
   "metadata": {},
   "outputs": [],
   "source": [
    "#averaged ranged weekly values\n",
    "df[\"Weekly\"] = df[\"Weekly\"].apply(lambda x: (int(x.split(\"-\")[0]) + int(x.split(\"-\")[1]))/2 if \"-\" in str(x) else x)"
   ]
  },
  {
   "cell_type": "code",
   "execution_count": 547,
   "metadata": {},
   "outputs": [],
   "source": [
    "#converted to float for ease in further calculations\n",
    "df[\"Weekly\"] = df[\"Weekly\"].astype(\"float\")"
   ]
  },
  {
   "cell_type": "code",
   "execution_count": 548,
   "metadata": {},
   "outputs": [],
   "source": [
    "#converted weekly amount to monthly\n",
    "df[\"Weekly to monthly\"] = df[\"Weekly\"] * 4.345"
   ]
  },
  {
   "cell_type": "code",
   "execution_count": 549,
   "metadata": {},
   "outputs": [],
   "source": [
    "#converted design amount to monthly\n",
    "df[\"Design to monthly\"] = df[\"Design\"].apply(lambda x: int(x) * 30 if x != 0 else 0)"
   ]
  },
  {
   "cell_type": "code",
   "execution_count": 550,
   "metadata": {},
   "outputs": [],
   "source": [
    "#converted stipend to float for ease in calculations\n",
    "df[\"Stipend\"] = df[\"Stipend\"].astype(\"float\")"
   ]
  },
  {
   "cell_type": "code",
   "execution_count": 551,
   "metadata": {},
   "outputs": [],
   "source": [
    "#pipeline calc converting stipend to final\n",
    "df[\"Stipend monthly\"] = df.apply(lambda x: x[\"Stipend\"] if x[\"Lumpsum to monthly\"] == 0 else x[\"Lumpsum to monthly\"], axis=1)"
   ]
  },
  {
   "cell_type": "code",
   "execution_count": 552,
   "metadata": {},
   "outputs": [],
   "source": [
    "#pipeline calc converting stipend to final\n",
    "df[\"Stipend monthly2\"] = df.apply(lambda x: x[\"Stipend monthly\"] if x[\"Weekly to monthly\"] == 0 else x[\"Weekly to monthly\"], axis=1)"
   ]
  },
  {
   "cell_type": "code",
   "execution_count": 553,
   "metadata": {},
   "outputs": [],
   "source": [
    "#pipeline calc converting stipend to final\n",
    "df[\"Stipend monthly final\"] = df.apply(lambda x: x[\"Stipend monthly2\"] if x[\"Design to monthly\"] == 0 else x[\"Design to monthly\"], axis=1)"
   ]
  },
  {
   "cell_type": "code",
   "execution_count": 554,
   "metadata": {},
   "outputs": [],
   "source": [
    "#storing stipend monthly final calculated back to stipend\n",
    "df[\"Stipend\"] = df[\"Stipend monthly final\"]"
   ]
  },
  {
   "cell_type": "code",
   "execution_count": 555,
   "metadata": {},
   "outputs": [],
   "source": [
    "#dropping all unneccesary columns made above\n",
    "df.drop(['Duration', 'Lumpsum to monthly', 'Weekly to monthly', 'Design to monthly', 'Stipend monthly', 'Stipend monthly2', 'Stipend monthly final', 'Lumpsum', 'Weekly', 'Design', 'Number of Openings', 'Link', 'Apply By', 'Applicants'], axis=1, inplace=True)"
   ]
  },
  {
   "cell_type": "markdown",
   "metadata": {},
   "source": [
    "### Fix skills reqd.:"
   ]
  },
  {
   "cell_type": "code",
   "execution_count": 558,
   "metadata": {},
   "outputs": [
    {
     "data": {
      "text/plain": [
       "Title                   0\n",
       "Company                 0\n",
       "Location                0\n",
       "Stipend                 2\n",
       "Skills Required      3482\n",
       "Perks                 913\n",
       "Incentives              0\n",
       "Duration in Month       0\n",
       "dtype: int64"
      ]
     },
     "execution_count": 558,
     "metadata": {},
     "output_type": "execute_result"
    }
   ],
   "source": [
    "#checking for null values\n",
    "df.isnull().sum()"
   ]
  },
  {
   "cell_type": "code",
   "execution_count": 559,
   "metadata": {},
   "outputs": [],
   "source": [
    "#filled null values in skills required\n",
    "df[\"Skills Required\"].fillna(\"Not Specific , \", axis=0, inplace=True)"
   ]
  },
  {
   "cell_type": "code",
   "execution_count": 560,
   "metadata": {},
   "outputs": [],
   "source": [
    "#created list with all specific skills required for each row\n",
    "df[\"Skills Required\"] = df[\"Skills Required\"].apply(lambda x: x.split(\" , \")[:-1])"
   ]
  },
  {
   "cell_type": "code",
   "execution_count": 561,
   "metadata": {},
   "outputs": [
    {
     "name": "stdout",
     "output_type": "stream",
     "text": [
      "['Not Specific', 'MS-Office', 'Creative Writing', 'Event Management', 'Report Writing', 'Social Media Marketing', 'Adobe After Effects', 'Adobe Photoshop', 'Adobe Premiere Pro', 'English Proficiency (Spoken)', 'MS-Excel', 'English Proficiency (Written)', 'Product Lifecycle Management(PLM)', 'Product Management', 'MS-Word', 'Adobe Creative Suite', 'Adobe Photoshop Lightroom CC', 'Copywriting', 'Video Editing', 'Digital Marketing', 'Email Marketing', 'Facebook Marketing', 'Instagram Marketing', 'Search Engine Marketing (SEM)', 'Search Engine Optimization (SEO)', 'C++ Programming', 'C Programming', 'Data Structures', 'Python', 'MS-PowerPoint', 'Photography', 'Hindi Proficiency (Spoken)', 'Hindi Proficiency (Written)', 'Deep Learning', 'Image Processing', 'Machine Learning', 'OpenCV', 'Gujarati Proficiency (Spoken)', 'Gujarati Proficiency (Written)', 'Client Interaction', 'Client Relationship', 'Telugu Proficiency (Spoken)', 'Acting Audition', 'Acting technique', 'Fashion Designing', 'Fashion Styling', 'iOS', 'Objective C', 'REST API', 'Swift', 'Xcode', 'Kannada Proficiency (Spoken)', 'Malayalam Proficiency (Spoken)', 'Adobe Illustrator', 'UI & UX Design', 'CSS', 'Django', 'Elasticsearch', 'HTML', 'LaTeX', 'Tamil Proficiency (Spoken)', 'CorelDRAW', 'Konkani Proficiency (Spoken)', 'SQL', 'Financial Modeling', 'Adobe Indesign', 'Video Making', 'Amazon Web Server (AWS)', 'Blockchain', 'Firebase', 'Flutter', 'Windows Mobile Application Development', 'Mathematics', 'Online Teaching', 'Teaching', 'Docker', 'Kubernetes', 'MongoDB', 'PostgreSQL', 'Recruitment', 'Android', 'Dart', 'Figma', 'Accounting', 'Tally', 'Autodesk Fusion 360', 'Rapid Prototyping', 'Rhino', 'SolidWorks', 'Blender 3D', 'KeyShot', 'PTC Creo', 'Blogging', 'ElectronJS', 'Express.js', 'GitHub', 'JavaScript', 'MySQL', 'Node.js', 'Natural Language Processing (NLP)', 'Physics', 'Subject Matter Expert (SME)', 'Adobe XD', 'Sketch', 'User Interface (UI) Development', 'Wireframing', 'Design Thinking', 'Autodesk Maya', 'WordPress', 'Google AdWords', 'NoSQL', 'ReactJS', 'React Native', 'Redux', 'Storyboarding', 'Adobe Flash', 'Database Management System (DBMS)', 'Project Management', 'Research and Analytics', 'Salesforce', 'Bootstrap', '3ds Max', 'Java', 'Robotics', 'Google Workspace', 'Colour Theory for Designers', 'Ethereum', 'Hyperledger', 'CI/CD', 'Firebase Cloud Messaging', 'Internet of Things (IoT)', 'Data Analytics', 'Data Science', 'Adobe Audition', 'MEAN/MERN Stack', 'Artifical Intelligence', 'PHP', 'Animation', 'AutoCAD', 'Autodesk Revit', 'Google SketchUp', 'Painting', 'Sketching', 'ARM Microcontroller', 'PCB Design', 'jQuery', 'Stock Trading', 'Amazon Web Services (AWS)', 'Google Analytics', 'AngularJS', 'Hibernate (Java)', 'Ionic', 'Spring MVC', 'Joomla', 'Kotlin', '.NET', 'ASP.NET', 'C#', 'R Programming', 'Music', 'Angular 7.0', 'American English', 'British English', 'CCNA', 'Computer Networking', 'Anchoring', 'Audacity', 'Audio Editing', 'Audio Making', 'PCB Soldering', 'Database Testing', 'GUI Testing', 'Manual Testing', 'Software Testing', 'Bengali Proficiency (Spoken)', 'Tableau', 'Marathi Proficiency(Spoken)', 'Marathi Proficiency(Written)', 'Computer Networks', 'Engineering Surveying', 'Quality Assurance/Quality Control (QA/QC)', 'Proofreading', 'Mojolicious MVC Web Framework', 'Final Cut Pro', 'Flask', 'Biology', 'CodeIgniter', 'LARAVEL', 'Drupal', 'FL Studio (formerly known as FruityLoops)', 'Chemistry', 'Algorithms', 'Statistical Modeling', 'Cloud Computing', 'Computer Vision', 'DevOps', 'Linux', 'Unity 3D', 'Unreal Engine', 'Estimation (estimating)', 'Manpower Planning', 'Autodesk SketchBook', 'Circuit Design', 'Digital Art', 'Google Cloud Computing', 'Inkscape', 'Power BI', 'SQLite', 'Golang', 'TypeScript', 'Unity Engine', 'Angular 2.0', 'Vue Js', 'History', 'Articulate Storyline', 'Cloud Firestore', 'JSON', 'ZBrush', 'AJAX', 'Kannada Proficiency (Written)', 'Telugu Proficiency (Written)', 'Dietetics/Nutrition', 'Calligraphy', 'Arduino', 'Raspberry Pi', 'XML', 'Model View Controller(MVC)', 'web3.js', 'Solidity', 'Microsoft PowerApps', 'Microsoft Azure', 'Odia Proficiency(Spoken)', 'Odia Proficiency(Written)', 'Punjabi Proficiency (Spoken)', 'Punjabi Proficiency (Written)', 'Six Sigma', 'Robotic Process Automation (RPA)', 'Bengali Proficiency (Written)', 'Voiceover', 'Apache', 'Jenkins', 'MS SQL Server', 'SCSS', 'Nginx', 'Economics', 'Shell Scripting', 'Unix', 'Analog And Digital Circuits', 'Autodesk 123D design', 'Financial literacy', 'Enterprise Resource Planning(ERP)', 'Adobe Dreamweaver', 'C#.NET', 'Embedded Systems', 'Interpersonal Skills', 'Visual Basic (VB)', 'Investing', 'MATLAB', 'VLSI', 'SAP', 'Tamil Proficiency (Written)', 'Adobe Fireworks', 'Sass', 'Git Bash', 'Git SVN', 'Google Suite (G Suite)', 'Odoo', 'Market Research', 'Heroku', 'CAD', 'JSP', 'Servlets', 'JavaFX', 'Oracle', 'CMS', 'Transcription', 'Translation', 'EAGLE', 'Allegro Software', 'Bioinformatics', 'Next Generation Sequencing (NGS)', 'CakePHP', 'OpenCart', 'SPSS', 'Ethical Hacking', 'Web Application Security', 'Magento', 'OAuth', 'Ruby on Rails', 'Kannada', 'Webflow', 'Articulate 360', 'Swing (Java)', 'Neural Networks', 'Cinema 4D', 'French Proficiency (spoken)', 'French Proficiency (written)', 'German Proficiency (Spoken)', 'German Proficiency (Written)', 'Japanese Proficiency (Spoken)', 'Japanese Proficiency (Written)', 'Korean Proficiency (Spoken)', 'ERP Implementation and Deployment', 'EViews', 'Performance Management System', 'Bash', 'Gitlab', 'Manipuri Proficiency (Spoken)', 'Terraform', 'DigitalOcean', 'Econometrics', 'J2EE', 'System Biology', 'Substance Painter', 'Ansible', 'Arabic Proficiency (Spoken)', 'Assamese Proficiency (Spoken)', 'Bodo Proficiency(Spoken)', 'Dogri Proficiency(Spoken)', 'Kashmiri Proficiency (Spoken)', 'Urdu Proficiency(Spoken)', 'Malayalam', 'Sindhi Proficiency(Spoken)', 'CNC Programming', 'Microsoft Visual Studio', 'Xamarin', 'Eyeon Fusion', 'Engineering Drawing', 'Pattern making', 'Moodle', 'Malayalam Proficiency (Written)', 'FPGA Synthesis and Prototyping', 'ANSYS', 'SYSTEM ADMINISTRATOR', 'Parallel Thinking', 'Linear Programming', 'SAS', 'NI Multisim', 'Atmel AVR', 'Yii', 'Catia', 'BIM (Building Information Modeling)', 'Stripe Payment API', 'Culinary Arts', 'LabVIEW', 'Materialize', 'OpenGL', 'Assamese Proficiency (Written)', 'Embroidery making', 'Catalyst MVC Web Framework', 'Digital Signal Processing', 'Spanish Proficiency(Spoken)', 'Spanish Proficiency(Written)', 'Vector Dynamics', 'Sony Vegas Pro', 'Reaction Commerce', 'Autodesk Alias', 'Autodesk Inventor', 'STATA', 'ArcGIS', 'Eclipse (IDE)', 'Training And Development', 'Hadoop', 'GIMP', 'Ableton Live', 'Autodesk CFD', 'Konkani Proficiency (Written)', 'Apache Cassandra', 'Backbone.js', 'Underscore.js', 'STAAD.Pro', 'QuarkXPress', 'Korean Proficiency (Written)', 'CLO3D', 'Docker Products', 'Proteus Design Suite', 'GNU Octave', 'PLC SCADA', 'OrCAD', 'HelioScope', 'Urdu Proficiency(Written)', 'InterPlanetary File System', 'SharePoint', 'COMSOL']\n"
     ]
    }
   ],
   "source": [
    "#got the unique names with for loop of all unique skills for further calculations\n",
    "m_list = []\n",
    "for i in df[\"Skills Required\"]:\n",
    "    m_list += i\n",
    "skill_name_list = []\n",
    "for i in m_list:\n",
    "    if i not in skill_name_list:\n",
    "        skill_name_list.append(i)\n",
    "    else:\n",
    "        skill_name_list = skill_name_list\n",
    "print(skill_name_list)"
   ]
  },
  {
   "cell_type": "code",
   "execution_count": 562,
   "metadata": {},
   "outputs": [
    {
     "name": "stderr",
     "output_type": "stream",
     "text": [
      "C:\\Users\\rishi\\AppData\\Local\\Temp\\ipykernel_18880\\1946250305.py:6: SettingWithCopyWarning: \n",
      "A value is trying to be set on a copy of a slice from a DataFrame\n",
      "\n",
      "See the caveats in the documentation: https://pandas.pydata.org/pandas-docs/stable/user_guide/indexing.html#returning-a-view-versus-a-copy\n",
      "  df[i][j] = 1\n",
      "C:\\Users\\rishi\\AppData\\Local\\Temp\\ipykernel_18880\\1946250305.py:8: SettingWithCopyWarning: \n",
      "A value is trying to be set on a copy of a slice from a DataFrame\n",
      "\n",
      "See the caveats in the documentation: https://pandas.pydata.org/pandas-docs/stable/user_guide/indexing.html#returning-a-view-versus-a-copy\n",
      "  df[i][j] = 0\n",
      "C:\\Users\\rishi\\AppData\\Local\\Temp\\ipykernel_18880\\1946250305.py:3: PerformanceWarning: DataFrame is highly fragmented.  This is usually the result of calling `frame.insert` many times, which has poor performance.  Consider joining all columns at once using pd.concat(axis=1) instead.  To get a de-fragmented frame, use `newframe = frame.copy()`\n",
      "  df[i] = i\n"
     ]
    }
   ],
   "source": [
    "#created dummy columns of specific skills for ML modelling coming ahead\n",
    "for i in skill_name_list:\n",
    "    df[i] = i\n",
    "    for j in range(0,15119):\n",
    "        if df[i][j] in df[\"Skills Required\"][j]:\n",
    "            df[i][j] = 1\n",
    "        else:\n",
    "            df[i][j] = 0"
   ]
  },
  {
   "cell_type": "code",
   "execution_count": 564,
   "metadata": {},
   "outputs": [],
   "source": [
    "#saved the dataset to roll back from here if need\n",
    "df.to_excel(\"halfway_after_forloop.xlsx\", index=False)"
   ]
  },
  {
   "cell_type": "code",
   "execution_count": 1,
   "metadata": {},
   "outputs": [],
   "source": [
    "#imported again as we start from here again after a roll back\n",
    "import pandas as pd\n",
    "import numpy as np"
   ]
  },
  {
   "cell_type": "code",
   "execution_count": 2,
   "metadata": {},
   "outputs": [],
   "source": [
    "df = pd.read_excel(\"halfway_after_forloop.xlsx\")"
   ]
  },
  {
   "cell_type": "code",
   "execution_count": 41,
   "metadata": {},
   "outputs": [],
   "source": [
    "#saved a copy to df1 to reduce loading and processing times\n",
    "df1 = df.copy()"
   ]
  },
  {
   "cell_type": "code",
   "execution_count": 43,
   "metadata": {},
   "outputs": [],
   "source": [
    "#dropped unneeded columns\n",
    "df1.drop([\"Not Specific\", \"Skills Required\"], axis=1, inplace=True)"
   ]
  },
  {
   "cell_type": "markdown",
   "metadata": {},
   "source": [
    "### Fixing Perks:"
   ]
  },
  {
   "cell_type": "code",
   "execution_count": 44,
   "metadata": {},
   "outputs": [],
   "source": [
    "#filled null values in perks\n",
    "df1[\"Perks\"].fillna(\"Not Specific , \", axis=0, inplace=True)"
   ]
  },
  {
   "cell_type": "code",
   "execution_count": 45,
   "metadata": {},
   "outputs": [],
   "source": [
    "#created list with all specific perk for each row\n",
    "df1[\"Perks\"] = df1[\"Perks\"].apply(lambda x: x.split(\" , \")[:-1])"
   ]
  },
  {
   "cell_type": "code",
   "execution_count": 46,
   "metadata": {},
   "outputs": [
    {
     "name": "stdout",
     "output_type": "stream",
     "text": [
      "['Certificate', 'Letter of recommendation', 'Flexible work hours', 'Informal dress code', '5 days a week', 'Job offer', 'Not Specific', 'Free snacks & beverages']\n"
     ]
    }
   ],
   "source": [
    "#got the unique names with for loop of all unique perks for further calculations\n",
    "m_list = []\n",
    "for i in df1[\"Perks\"]:\n",
    "    m_list += i\n",
    "perk_name_list = []\n",
    "for i in m_list:\n",
    "    if i not in perk_name_list:\n",
    "        perk_name_list.append(i)\n",
    "    else:\n",
    "        perk_name_list = perk_name_list\n",
    "print(perk_name_list)"
   ]
  },
  {
   "cell_type": "code",
   "execution_count": 47,
   "metadata": {},
   "outputs": [],
   "source": [
    "#created dummy columns of specific perks for ML modelling coming ahead\n",
    "for i in perk_name_list:\n",
    "    df1[i] = i\n",
    "    for j in range(0,15119):\n",
    "        if df1[i][j] in df1[\"Perks\"][j]:\n",
    "            df1[i][j] = 1\n",
    "        else:\n",
    "            df1[i][j] = 0"
   ]
  },
  {
   "cell_type": "code",
   "execution_count": 48,
   "metadata": {},
   "outputs": [],
   "source": [
    "#dropped unneeded columns\n",
    "df1.drop([\"Perks\", \"Not Specific\"], axis=1, inplace=True)"
   ]
  },
  {
   "cell_type": "code",
   "execution_count": 49,
   "metadata": {},
   "outputs": [
    {
     "data": {
      "text/html": [
       "<div>\n",
       "<style scoped>\n",
       "    .dataframe tbody tr th:only-of-type {\n",
       "        vertical-align: middle;\n",
       "    }\n",
       "\n",
       "    .dataframe tbody tr th {\n",
       "        vertical-align: top;\n",
       "    }\n",
       "\n",
       "    .dataframe thead th {\n",
       "        text-align: right;\n",
       "    }\n",
       "</style>\n",
       "<table border=\"1\" class=\"dataframe\">\n",
       "  <thead>\n",
       "    <tr style=\"text-align: right;\">\n",
       "      <th></th>\n",
       "      <th>Title</th>\n",
       "      <th>Company</th>\n",
       "      <th>Location</th>\n",
       "      <th>Stipend</th>\n",
       "      <th>Incentives</th>\n",
       "      <th>Duration in Month</th>\n",
       "      <th>MS-Office</th>\n",
       "      <th>Creative Writing</th>\n",
       "      <th>Event Management</th>\n",
       "      <th>Report Writing</th>\n",
       "      <th>...</th>\n",
       "      <th>InterPlanetary File System</th>\n",
       "      <th>SharePoint</th>\n",
       "      <th>COMSOL</th>\n",
       "      <th>Certificate</th>\n",
       "      <th>Letter of recommendation</th>\n",
       "      <th>Flexible work hours</th>\n",
       "      <th>Informal dress code</th>\n",
       "      <th>5 days a week</th>\n",
       "      <th>Job offer</th>\n",
       "      <th>Free snacks &amp; beverages</th>\n",
       "    </tr>\n",
       "  </thead>\n",
       "  <tbody>\n",
       "    <tr>\n",
       "      <th>15112</th>\n",
       "      <td>Cost Accounting</td>\n",
       "      <td>Oil &amp; Natural Gas Corporation Limited</td>\n",
       "      <td>Agartala</td>\n",
       "      <td>NaN</td>\n",
       "      <td>0</td>\n",
       "      <td>0.0</td>\n",
       "      <td>0</td>\n",
       "      <td>0</td>\n",
       "      <td>0</td>\n",
       "      <td>0</td>\n",
       "      <td>...</td>\n",
       "      <td>0</td>\n",
       "      <td>0</td>\n",
       "      <td>0</td>\n",
       "      <td>0</td>\n",
       "      <td>0</td>\n",
       "      <td>0</td>\n",
       "      <td>0</td>\n",
       "      <td>0</td>\n",
       "      <td>0</td>\n",
       "      <td>0</td>\n",
       "    </tr>\n",
       "    <tr>\n",
       "      <th>15114</th>\n",
       "      <td>Volunteering</td>\n",
       "      <td>Centre For Science And Environment (CSE)</td>\n",
       "      <td>Delhi</td>\n",
       "      <td>NaN</td>\n",
       "      <td>0</td>\n",
       "      <td>0.0</td>\n",
       "      <td>0</td>\n",
       "      <td>0</td>\n",
       "      <td>0</td>\n",
       "      <td>0</td>\n",
       "      <td>...</td>\n",
       "      <td>0</td>\n",
       "      <td>0</td>\n",
       "      <td>0</td>\n",
       "      <td>0</td>\n",
       "      <td>0</td>\n",
       "      <td>0</td>\n",
       "      <td>0</td>\n",
       "      <td>0</td>\n",
       "      <td>0</td>\n",
       "      <td>0</td>\n",
       "    </tr>\n",
       "  </tbody>\n",
       "</table>\n",
       "<p>2 rows × 396 columns</p>\n",
       "</div>"
      ],
      "text/plain": [
       "                 Title                                   Company  Location  \\\n",
       "15112  Cost Accounting     Oil & Natural Gas Corporation Limited  Agartala   \n",
       "15114     Volunteering  Centre For Science And Environment (CSE)     Delhi   \n",
       "\n",
       "       Stipend  Incentives  Duration in Month MS-Office Creative Writing  \\\n",
       "15112      NaN           0                0.0         0                0   \n",
       "15114      NaN           0                0.0         0                0   \n",
       "\n",
       "      Event Management Report Writing  ... InterPlanetary File System  \\\n",
       "15112                0              0  ...                          0   \n",
       "15114                0              0  ...                          0   \n",
       "\n",
       "      SharePoint COMSOL Certificate Letter of recommendation  \\\n",
       "15112          0      0           0                        0   \n",
       "15114          0      0           0                        0   \n",
       "\n",
       "      Flexible work hours Informal dress code 5 days a week Job offer  \\\n",
       "15112                   0                   0             0         0   \n",
       "15114                   0                   0             0         0   \n",
       "\n",
       "      Free snacks & beverages  \n",
       "15112                       0  \n",
       "15114                       0  \n",
       "\n",
       "[2 rows x 396 columns]"
      ]
     },
     "execution_count": 49,
     "metadata": {},
     "output_type": "execute_result"
    }
   ],
   "source": [
    "#two rows with incomplete info accross all columns so will drop them\n",
    "df1[df1[\"Duration in Month\"] == 0]"
   ]
  },
  {
   "cell_type": "code",
   "execution_count": 50,
   "metadata": {},
   "outputs": [],
   "source": [
    "#dropped the 2 rows\n",
    "df1.drop([15112, 15114], axis=0, inplace=True)"
   ]
  },
  {
   "cell_type": "code",
   "execution_count": 51,
   "metadata": {},
   "outputs": [],
   "source": [
    "#removed outliers that can affect our ML models and also to normalise our target variable distribution as much as possible\n",
    "df1 = df1[(df1[\"Stipend\"] <=df1[\"Stipend\"].quantile(0.9)) & (df1[\"Stipend\"] >=df1[\"Stipend\"].quantile(0.1))]"
   ]
  },
  {
   "cell_type": "markdown",
   "metadata": {},
   "source": [
    "### Basic EDA to get an overview: "
   ]
  },
  {
   "cell_type": "code",
   "execution_count": 15,
   "metadata": {},
   "outputs": [],
   "source": [
    "import seaborn as sns\n",
    "import matplotlib.pyplot as plt\n",
    "%matplotlib inline"
   ]
  },
  {
   "cell_type": "markdown",
   "metadata": {},
   "source": [
    "* Top most hiring companies:"
   ]
  },
  {
   "cell_type": "code",
   "execution_count": 16,
   "metadata": {},
   "outputs": [
    {
     "data": {
      "text/plain": [
       "(array([0, 1, 2, 3, 4, 5, 6, 7, 8, 9]),\n",
       " [Text(0, 0, 'Relinns Technologies'),\n",
       "  Text(1, 0, 'Webtechage Private Limited'),\n",
       "  Text(2, 0, 'Stirring Minds'),\n",
       "  Text(3, 0, 'Reach Technologies'),\n",
       "  Text(4, 0, 'Multibhashi'),\n",
       "  Text(5, 0, 'MyMegaminds'),\n",
       "  Text(6, 0, 'OneService India'),\n",
       "  Text(7, 0, 'AstroTalk'),\n",
       "  Text(8, 0, 'Medicana'),\n",
       "  Text(9, 0, 'DeepThought Edutech Ventures Private Limited')])"
      ]
     },
     "execution_count": 16,
     "metadata": {},
     "output_type": "execute_result"
    },
    {
     "data": {
      "image/png": "[encoded data removed]",
      "text/plain": [
       "<Figure size 864x576 with 1 Axes>"
      ]
     },
     "metadata": {
      "needs_background": "light"
     },
     "output_type": "display_data"
    }
   ],
   "source": [
    "plt.figure(figsize=(12,8))\n",
    "sns.barplot(x=df1[\"Company\"].value_counts()[0:10].index, y=df1[\"Company\"].value_counts()[0:10].values, color=\"#009900\")\n",
    "plt.xticks(rotation=90)"
   ]
  },
  {
   "cell_type": "markdown",
   "metadata": {},
   "source": [
    "* Top locations other than WFH:"
   ]
  },
  {
   "cell_type": "code",
   "execution_count": 18,
   "metadata": {},
   "outputs": [
    {
     "data": {
      "text/plain": [
       "<AxesSubplot:>"
      ]
     },
     "execution_count": 18,
     "metadata": {},
     "output_type": "execute_result"
    },
    {
     "data": {
      "image/png": "[encoded data removed]",
      "text/plain": [
       "<Figure size 864x576 with 1 Axes>"
      ]
     },
     "metadata": {
      "needs_background": "light"
     },
     "output_type": "display_data"
    }
   ],
   "source": [
    "plt.figure(figsize=(12,8))\n",
    "df1[\"Location\"].value_counts()[1:10].plot(kind=\"bar\")"
   ]
  },
  {
   "cell_type": "markdown",
   "metadata": {},
   "source": [
    "* Top titles:"
   ]
  },
  {
   "cell_type": "code",
   "execution_count": 19,
   "metadata": {},
   "outputs": [
    {
     "data": {
      "text/plain": [
       "<AxesSubplot:>"
      ]
     },
     "execution_count": 19,
     "metadata": {},
     "output_type": "execute_result"
    },
    {
     "data": {
      "image/png": "[encoded data removed]",
      "text/plain": [
       "<Figure size 864x576 with 1 Axes>"
      ]
     },
     "metadata": {
      "needs_background": "light"
     },
     "output_type": "display_data"
    }
   ],
   "source": [
    "plt.figure(figsize=(12,8))\n",
    "df1[\"Title\"].value_counts()[0:10].plot(kind=\"bar\")"
   ]
  },
  {
   "cell_type": "markdown",
   "metadata": {},
   "source": [
    "### Checking the distribution of our target variable after removing outliers to make the ML model predictive enough:"
   ]
  },
  {
   "cell_type": "code",
   "execution_count": 20,
   "metadata": {},
   "outputs": [
    {
     "data": {
      "text/plain": [
       "<AxesSubplot:>"
      ]
     },
     "execution_count": 20,
     "metadata": {},
     "output_type": "execute_result"
    },
    {
     "data": {
      "image/png": "[encoded data removed]",
      "text/plain": [
       "<Figure size 432x288 with 1 Axes>"
      ]
     },
     "metadata": {
      "needs_background": "light"
     },
     "output_type": "display_data"
    }
   ],
   "source": [
    "df1[\"Stipend\"].hist()"
   ]
  },
  {
   "cell_type": "markdown",
   "metadata": {},
   "source": [
    "* Roughly a normal distribution,.. slightly skewed to the right but ok\n",
    "* IMP :The rough distribution also signifies that our model will have higher error range but still will work enough to give a rough estimate to users."
   ]
  },
  {
   "cell_type": "markdown",
   "metadata": {},
   "source": [
    "## Model testing and building:"
   ]
  },
  {
   "cell_type": "code",
   "execution_count": 13,
   "metadata": {},
   "outputs": [],
   "source": [
    "#created dummy columns for our leftover categorical variables\n",
    "df_dum = pd.get_dummies(df1[[\"Title\", \"Location\"]], drop_first=True)"
   ]
  },
  {
   "cell_type": "code",
   "execution_count": 14,
   "metadata": {},
   "outputs": [],
   "source": [
    "#dropped the categorical variables\n",
    "df1.drop([\"Title\", \"Location\", \"Company\"], axis=1, inplace=True)"
   ]
  },
  {
   "cell_type": "code",
   "execution_count": 15,
   "metadata": {},
   "outputs": [],
   "source": [
    "#concatenated the categorical dummies with main dataframe\n",
    "df_full = pd.concat([df1, df_dum], axis=1)"
   ]
  },
  {
   "cell_type": "code",
   "execution_count": 16,
   "metadata": {},
   "outputs": [],
   "source": [
    "#defined the training data and target for our ML process\n",
    "X = df_full.drop(columns=[\"Stipend\"])\n",
    "y = df_full[\"Stipend\"]"
   ]
  },
  {
   "cell_type": "code",
   "execution_count": 17,
   "metadata": {},
   "outputs": [],
   "source": [
    "#imported the required ML libraries\n",
    "from sklearn.preprocessing import StandardScaler\n",
    "from sklearn.metrics import mean_absolute_error\n",
    "from sklearn.model_selection import train_test_split, cross_val_score, GridSearchCV, RandomizedSearchCV\n",
    "from sklearn.linear_model import LinearRegression, Lasso, Ridge\n",
    "from sklearn.ensemble import RandomForestRegressor, GradientBoostingRegressor\n",
    "from sklearn.svm import SVR\n",
    "from lightgbm import LGBMRegressor\n",
    "from xgboost.sklearn import XGBRegressor"
   ]
  },
  {
   "cell_type": "code",
   "execution_count": 18,
   "metadata": {},
   "outputs": [],
   "source": [
    "#scaled the training data for optimal training as there were values in non uniform ranges\n",
    "scaler = StandardScaler()\n",
    "X_scaled = scaler.fit_transform(X)"
   ]
  },
  {
   "cell_type": "code",
   "execution_count": 19,
   "metadata": {},
   "outputs": [],
   "source": [
    "#splitted the data into training set and test set to evaluate model performance and check for overfitting issues if arises\n",
    "X_train, X_test, y_train, y_test = train_test_split(X_scaled, y, test_size=0.2, random_state=100)"
   ]
  },
  {
   "cell_type": "markdown",
   "metadata": {},
   "source": [
    "## Testing score of all vanilla models: \n",
    "* We will choose best vanilla model and hyperparameter tune that model for best possible performance"
   ]
  },
  {
   "cell_type": "code",
   "execution_count": 68,
   "metadata": {},
   "outputs": [
    {
     "name": "stdout",
     "output_type": "stream",
     "text": [
      "Linear Model:\n",
      "Train Score ---> 0.22849793371989036\n",
      "Test Score ---> -3.8057646724789855e+28\n",
      "Test Mean Absolute Error ---> 1.6179588882352794e+17\n",
      "Test Cross Val Score ---> [-1.33182853e+17 -1.10852868e+17 -9.83532593e+16 -1.81395064e+17\n",
      " -7.36405209e+16]\n",
      "Test Mean Cross Val Score ---> -1.1948491304329634e+17\n"
     ]
    }
   ],
   "source": [
    "#vanilla Linear regression Model\n",
    "lr_model = LinearRegression()\n",
    "lr_model.fit(X_train, y_train)\n",
    "\n",
    "train_score = lr_model.score(X_train, y_train)\n",
    "test_score = lr_model.score(X_test, y_test)\n",
    "test_MAE = mean_absolute_error(y_test, lr_model.predict(X_test))\n",
    "test_CV_score = cross_val_score(lr_model, X_test, y_test, scoring=\"neg_mean_absolute_error\")\n",
    "mean_CV_score = np.mean(test_CV_score)\n",
    "\n",
    "print(\"Linear Model:\")\n",
    "print(\"Train Score --->\", train_score)\n",
    "print(\"Test Score --->\", test_score)\n",
    "print(\"Test Mean Absolute Error --->\", test_MAE)\n",
    "print(\"Test Cross Val Score --->\", test_CV_score)\n",
    "print(\"Test Mean Cross Val Score --->\", mean_CV_score)"
   ]
  },
  {
   "cell_type": "markdown",
   "metadata": {},
   "source": [
    "* poor performance by linear model as expected as our data is sparse\n",
    "* we try lasso and ridge next which should perform better than linear due to regularisation"
   ]
  },
  {
   "cell_type": "code",
   "execution_count": 21,
   "metadata": {},
   "outputs": [
    {
     "name": "stdout",
     "output_type": "stream",
     "text": [
      "Lasso Model:\n",
      "Train Score ---> 0.3787421115161418\n",
      "Test Score ---> 0.10274316598149025\n",
      "Test Mean Absolute Error ---> 2368.7077850425503\n",
      "Test Cross Val Score ---> [-2719.9527822  -2484.03250341 -2658.47122585 -2655.96030514\n",
      " -2511.14485173]\n",
      "Test Mean Cross Val Score ---> -2605.91233366662\n"
     ]
    }
   ],
   "source": [
    "#vanilla Lasso regression Model\n",
    "lasso_model = Lasso()\n",
    "lasso_model.fit(X_train, y_train)\n",
    "\n",
    "train_score = lasso_model.score(X_train, y_train)\n",
    "test_score = lasso_model.score(X_test, y_test)\n",
    "test_MAE = mean_absolute_error(y_test, lasso_model.predict(X_test))\n",
    "test_CV_score = cross_val_score(lasso_model, X_test, y_test, scoring=\"neg_mean_absolute_error\")\n",
    "mean_CV_score = np.mean(test_CV_score)\n",
    "\n",
    "print(\"Lasso Model:\")\n",
    "print(\"Train Score --->\", train_score)\n",
    "print(\"Test Score --->\", test_score)\n",
    "print(\"Test Mean Absolute Error --->\", test_MAE)\n",
    "print(\"Test Cross Val Score --->\", test_CV_score)\n",
    "print(\"Test Mean Cross Val Score --->\", mean_CV_score)"
   ]
  },
  {
   "cell_type": "markdown",
   "metadata": {},
   "source": [
    "* better than linear model as expected but still not satisfactory"
   ]
  },
  {
   "cell_type": "code",
   "execution_count": 70,
   "metadata": {},
   "outputs": [
    {
     "name": "stdout",
     "output_type": "stream",
     "text": [
      "Ridge Model:\n",
      "Train Score ---> 0.3791111804191183\n",
      "Test Score ---> 0.08444846208287116\n",
      "Test Mean Absolute Error ---> 2388.924284275584\n",
      "Test Cross Val Score ---> [-2793.36304379 -2518.06898667 -2691.23716559 -2660.85978635\n",
      " -2546.02026051]\n",
      "Test Mean Cross Val Score ---> -2641.9098485794466\n"
     ]
    }
   ],
   "source": [
    "#vanilla Ridge regression Model\n",
    "ridge_model = Ridge()\n",
    "ridge_model.fit(X_train, y_train)\n",
    "\n",
    "train_score = ridge_model.score(X_train, y_train)\n",
    "test_score = ridge_model.score(X_test, y_test)\n",
    "test_MAE = mean_absolute_error(y_test, ridge_model.predict(X_test))\n",
    "test_CV_score = cross_val_score(ridge_model, X_test, y_test, scoring=\"neg_mean_absolute_error\")\n",
    "mean_CV_score = np.mean(test_CV_score)\n",
    "\n",
    "print(\"Ridge Model:\")\n",
    "print(\"Train Score --->\", train_score)\n",
    "print(\"Test Score --->\", test_score)\n",
    "print(\"Test Mean Absolute Error --->\", test_MAE)\n",
    "print(\"Test Cross Val Score --->\", test_CV_score)\n",
    "print(\"Test Mean Cross Val Score --->\", mean_CV_score)"
   ]
  },
  {
   "cell_type": "markdown",
   "metadata": {},
   "source": [
    "* better than linear model as expected but still not satisfactory"
   ]
  },
  {
   "cell_type": "code",
   "execution_count": 71,
   "metadata": {},
   "outputs": [
    {
     "name": "stdout",
     "output_type": "stream",
     "text": [
      "Random Forest Model:\n",
      "Train Score ---> 0.8571583723385677\n",
      "Test Score ---> 0.16837249862840198\n",
      "Test Mean Absolute Error ---> 2259.085143929908\n",
      "Test Cross Val Score ---> [-2414.635457   -2299.820643   -2422.12633975 -2525.25026992\n",
      " -2330.15371834]\n",
      "Test Mean Cross Val Score ---> -2398.397285605076\n"
     ]
    }
   ],
   "source": [
    "#vanilla Random forest regression Model\n",
    "rfr_model = RandomForestRegressor()\n",
    "rfr_model.fit(X_train, y_train)\n",
    "\n",
    "train_score = rfr_model.score(X_train, y_train)\n",
    "test_score = rfr_model.score(X_test, y_test)\n",
    "test_MAE = mean_absolute_error(y_test, rfr_model.predict(X_test))\n",
    "test_CV_score = cross_val_score(rfr_model, X_test, y_test, scoring=\"neg_mean_absolute_error\")\n",
    "mean_CV_score = np.mean(test_CV_score)\n",
    "\n",
    "print(\"Random Forest Model:\")\n",
    "print(\"Train Score --->\", train_score)\n",
    "print(\"Test Score --->\", test_score)\n",
    "print(\"Test Mean Absolute Error --->\", test_MAE)\n",
    "print(\"Test Cross Val Score --->\", test_CV_score)\n",
    "print(\"Test Mean Cross Val Score --->\", mean_CV_score)"
   ]
  },
  {
   "cell_type": "markdown",
   "metadata": {},
   "source": [
    "* here in random forest, the train score and test score looks interesting.. it indicates that the model overfitted the training data"
   ]
  },
  {
   "cell_type": "code",
   "execution_count": 72,
   "metadata": {},
   "outputs": [
    {
     "name": "stdout",
     "output_type": "stream",
     "text": [
      "Gradient Boosting Model:\n",
      "Train Score ---> 0.20995494934398484\n",
      "Test Score ---> 0.19002180868569163\n",
      "Test Mean Absolute Error ---> 2325.108860050951\n",
      "Test Cross Val Score ---> [-2375.65293893 -2277.75063134 -2399.32064277 -2430.45528113\n",
      " -2266.14386256]\n",
      "Test Mean Cross Val Score ---> -2349.8646713447242\n"
     ]
    }
   ],
   "source": [
    "#vanilla gradient boosting Model\n",
    "gbr_model = GradientBoostingRegressor()\n",
    "gbr_model.fit(X_train, y_train)\n",
    "\n",
    "train_score = gbr_model.score(X_train, y_train)\n",
    "test_score = gbr_model.score(X_test, y_test)\n",
    "test_MAE = mean_absolute_error(y_test, gbr_model.predict(X_test))\n",
    "test_CV_score = cross_val_score(gbr_model, X_test, y_test, scoring=\"neg_mean_absolute_error\")\n",
    "mean_CV_score = np.mean(test_CV_score)\n",
    "\n",
    "print(\"Gradient Boosting Model:\")\n",
    "print(\"Train Score --->\", train_score)\n",
    "print(\"Test Score --->\", test_score)\n",
    "print(\"Test Mean Absolute Error --->\", test_MAE)\n",
    "print(\"Test Cross Val Score --->\", test_CV_score)\n",
    "print(\"Test Mean Cross Val Score --->\", mean_CV_score)"
   ]
  },
  {
   "cell_type": "markdown",
   "metadata": {},
   "source": [
    "* gbr model looks ok in all aspects but we will see if we can find something better"
   ]
  },
  {
   "cell_type": "code",
   "execution_count": 73,
   "metadata": {},
   "outputs": [
    {
     "name": "stdout",
     "output_type": "stream",
     "text": [
      "SVR Model:\n",
      "Train Score ---> -0.024119321277743966\n",
      "Test Score ---> -0.022255758343477927\n",
      "Test Mean Absolute Error ---> 2626.2816370109786\n",
      "Test Cross Val Score ---> [-2637.50193359 -2643.67709341 -2641.08780607 -2731.38403854\n",
      " -2483.20732019]\n",
      "Test Mean Cross Val Score ---> -2627.3716383592046\n"
     ]
    }
   ],
   "source": [
    "#vanilla SVR Model\n",
    "svr_model = SVR()\n",
    "svr_model.fit(X_train, y_train)\n",
    "\n",
    "train_score = svr_model.score(X_train, y_train)\n",
    "test_score = svr_model.score(X_test, y_test)\n",
    "test_MAE = mean_absolute_error(y_test, svr_model.predict(X_test))\n",
    "test_CV_score = cross_val_score(svr_model, X_test, y_test, scoring=\"neg_mean_absolute_error\")\n",
    "mean_CV_score = np.mean(test_CV_score)\n",
    "\n",
    "print(\"SVR Model:\")\n",
    "print(\"Train Score --->\", train_score)\n",
    "print(\"Test Score --->\", test_score)\n",
    "print(\"Test Mean Absolute Error --->\", test_MAE)\n",
    "print(\"Test Cross Val Score --->\", test_CV_score)\n",
    "print(\"Test Mean Cross Val Score --->\", mean_CV_score)"
   ]
  },
  {
   "cell_type": "markdown",
   "metadata": {},
   "source": [
    "* svr model shows inadequate performance compared to others"
   ]
  },
  {
   "cell_type": "code",
   "execution_count": 74,
   "metadata": {},
   "outputs": [
    {
     "name": "stdout",
     "output_type": "stream",
     "text": [
      "LGBM Model:\n",
      "Train Score ---> 0.32048298913717554\n",
      "Test Score ---> 0.21122107660635747\n",
      "Test Mean Absolute Error ---> 2263.272055858764\n",
      "Test Cross Val Score ---> [-2387.48229987 -2305.87818122 -2374.67103939 -2475.53608827\n",
      " -2402.58120057]\n",
      "Test Mean Cross Val Score ---> -2389.2297618626085\n"
     ]
    }
   ],
   "source": [
    "#vanilla LGBM Model\n",
    "lgbm_model = LGBMRegressor()\n",
    "lgbm_model.fit(X_train, y_train)\n",
    "\n",
    "train_score = lgbm_model.score(X_train, y_train)\n",
    "test_score = lgbm_model.score(X_test, y_test)\n",
    "test_MAE = mean_absolute_error(y_test, lgbm_model.predict(X_test))\n",
    "test_CV_score = cross_val_score(lgbm_model, X_test, y_test, scoring=\"neg_mean_absolute_error\")\n",
    "mean_CV_score = np.mean(test_CV_score)\n",
    "\n",
    "print(\"LGBM Model:\")\n",
    "print(\"Train Score --->\", train_score)\n",
    "print(\"Test Score --->\", test_score)\n",
    "print(\"Test Mean Absolute Error --->\", test_MAE)\n",
    "print(\"Test Cross Val Score --->\", test_CV_score)\n",
    "print(\"Test Mean Cross Val Score --->\", mean_CV_score)"
   ]
  },
  {
   "cell_type": "markdown",
   "metadata": {},
   "source": [
    "* lgbm model looks good in all aspects"
   ]
  },
  {
   "cell_type": "code",
   "execution_count": 75,
   "metadata": {},
   "outputs": [
    {
     "name": "stdout",
     "output_type": "stream",
     "text": [
      "XGB Model:\n",
      "Train Score ---> 0.3632033940728313\n",
      "Test Score ---> 0.20282306845864084\n",
      "Test Mean Absolute Error ---> 2278.867870023664\n",
      "Test Cross Val Score ---> [-2403.8417525  -2289.16403741 -2333.2684233  -2484.68119748\n",
      " -2273.43314121]\n",
      "Test Mean Cross Val Score ---> -2356.8777103819425\n"
     ]
    }
   ],
   "source": [
    "#vanilla XGB Model\n",
    "xgb_model = XGBRegressor()\n",
    "xgb_model.fit(X_train, y_train)\n",
    "\n",
    "train_score = xgb_model.score(X_train, y_train)\n",
    "test_score = xgb_model.score(X_test, y_test)\n",
    "test_MAE = mean_absolute_error(y_test, xgb_model.predict(X_test))\n",
    "test_CV_score = cross_val_score(xgb_model, X_test, y_test, scoring=\"neg_mean_absolute_error\")\n",
    "mean_CV_score = np.mean(test_CV_score)\n",
    "\n",
    "print(\"XGB Model:\")\n",
    "print(\"Train Score --->\", train_score)\n",
    "print(\"Test Score --->\", test_score)\n",
    "print(\"Test Mean Absolute Error --->\", test_MAE)\n",
    "print(\"Test Cross Val Score --->\", test_CV_score)\n",
    "print(\"Test Mean Cross Val Score --->\", mean_CV_score)"
   ]
  },
  {
   "cell_type": "markdown",
   "metadata": {},
   "source": [
    "* xgb model also looks good"
   ]
  },
  {
   "cell_type": "markdown",
   "metadata": {},
   "source": [
    "## After comparison of all vanilla models, decided to go with LGBM model as its efficient on computation power and also showing good model performance and can be hypertuned further too."
   ]
  },
  {
   "cell_type": "markdown",
   "metadata": {},
   "source": [
    "### Hyperparameter tuning of LGBM model:"
   ]
  },
  {
   "cell_type": "markdown",
   "metadata": {},
   "source": [
    "* Decided to go with randomised search cv as our CPU is not good enough to perform grid search in lesser time."
   ]
  },
  {
   "cell_type": "code",
   "execution_count": 20,
   "metadata": {},
   "outputs": [],
   "source": [
    "#set the parameters we want to search with randomised search cv for the best model performance\n",
    "parameters= {\n",
    "    \"num_leaves\": [15, 20, 25, 32, 35, 45, 55, 65, 75, 85, 95, 105, 115, 125],\n",
    "    \"max_depth\": [-1, 2, 3, 4, 5, 8, 10, 12, 15],\n",
    "    \"learning_rate\": [0.005, 0.001, 0.0015, 0.01, 0.05, 0.1, 0.15, 0.25, 0.5],\n",
    "    \"max_bin\": [255, 125, 355, 500, 700, 55],\n",
    "    \"num_iterations\": [10, 50, 75, 100, 150, 200, 500, 1000, 1500],\n",
    "    \"path_smooth\": [1,2,3,4,5,10,15,20,25]\n",
    "}"
   ]
  },
  {
   "cell_type": "code",
   "execution_count": 21,
   "metadata": {},
   "outputs": [],
   "source": [
    "#adjusted randomised search cv parameters\n",
    "rclf = RandomizedSearchCV(estimator=LGBMRegressor(num_threads=4), param_distributions= parameters, scoring=\"neg_mean_absolute_error\", n_jobs=-1, verbose=True, random_state=100, error_score=\"raise\")"
   ]
  },
  {
   "cell_type": "code",
   "execution_count": 22,
   "metadata": {},
   "outputs": [
    {
     "name": "stdout",
     "output_type": "stream",
     "text": [
      "Fitting 5 folds for each of 10 candidates, totalling 50 fits\n",
      "[LightGBM] [Warning] num_threads is set=4, n_jobs=-1 will be ignored. Current value: num_threads=4\n"
     ]
    },
    {
     "data": {
      "text/plain": [
       "LGBMRegressor(learning_rate=0.01, max_bin=255, max_depth=8, num_iterations=1000,\n",
       "              num_leaves=55, num_threads=4, path_smooth=2)"
      ]
     },
     "execution_count": 22,
     "metadata": {},
     "output_type": "execute_result"
    }
   ],
   "source": [
    "#fitted train set into randomised search cv to evaluate best parameters\n",
    "rclf.fit(X_train, y_train)\n",
    "rclf.best_estimator_"
   ]
  },
  {
   "cell_type": "code",
   "execution_count": 23,
   "metadata": {},
   "outputs": [
    {
     "name": "stdout",
     "output_type": "stream",
     "text": [
      "[LightGBM] [Warning] num_threads is set=4, n_jobs=-1 will be ignored. Current value: num_threads=4\n",
      "[LightGBM] [Warning] num_threads is set=4, n_jobs=-1 will be ignored. Current value: num_threads=4\n",
      "[LightGBM] [Warning] num_threads is set=4, n_jobs=-1 will be ignored. Current value: num_threads=4\n",
      "[LightGBM] [Warning] num_threads is set=4, n_jobs=-1 will be ignored. Current value: num_threads=4\n",
      "[LightGBM] [Warning] num_threads is set=4, n_jobs=-1 will be ignored. Current value: num_threads=4\n",
      "LGBM Model:\n",
      "Train Score ---> 0.2995866425201603\n",
      "Test Score ---> 0.2100214552210764\n",
      "Test Mean Absolute Error ---> 2276.6810832031697\n",
      "Test Cross Val Score ---> [-2357.96070993 -2275.0144068  -2386.40781684 -2460.16963673\n",
      " -2337.84389727]\n",
      "Test Mean Cross Val Score ---> -2363.4792935147716\n"
     ]
    }
   ],
   "source": [
    "#modeled lgbm again with the tuned parameters\n",
    "lgbm_model = rclf.best_estimator_\n",
    "lgbm_model.fit(X_train, y_train)\n",
    "\n",
    "train_score = lgbm_model.score(X_train, y_train)\n",
    "test_score = lgbm_model.score(X_test, y_test)\n",
    "test_MAE = mean_absolute_error(y_test, lgbm_model.predict(X_test))\n",
    "test_CV_score = cross_val_score(lgbm_model, X_test, y_test, scoring=\"neg_mean_absolute_error\")\n",
    "mean_CV_score = np.mean(test_CV_score)\n",
    "\n",
    "print(\"LGBM Model:\")\n",
    "print(\"Train Score --->\", train_score)\n",
    "print(\"Test Score --->\", test_score)\n",
    "print(\"Test Mean Absolute Error --->\", test_MAE)\n",
    "print(\"Test Cross Val Score --->\", test_CV_score)\n",
    "print(\"Test Mean Cross Val Score --->\", mean_CV_score)"
   ]
  },
  {
   "cell_type": "markdown",
   "metadata": {},
   "source": [
    "## Not significant but our performance increased slightly. (Mean Absolute Error around Rs 2300.)"
   ]
  },
  {
   "cell_type": "markdown",
   "metadata": {},
   "source": [
    "## Saving the model and scaler in pickle file:"
   ]
  },
  {
   "cell_type": "code",
   "execution_count": 24,
   "metadata": {},
   "outputs": [],
   "source": [
    "import pickle"
   ]
  },
  {
   "cell_type": "code",
   "execution_count": 25,
   "metadata": {},
   "outputs": [],
   "source": [
    "# saved the model and standard scaler to disk\n",
    "pickle.dump(lgbm_model, open('internshala_lgbm_model.pkl', 'wb'))\n",
    "pickle.dump(scaler, open('scaler.pkl','wb'))"
   ]
  },
  {
   "cell_type": "code",
   "execution_count": 26,
   "metadata": {},
   "outputs": [],
   "source": [
    "# saved the feature labels in pickle file for flask api\n",
    "index_dict = dict(zip(X.columns,range(X.shape[1])))\n",
    "pickle.dump(index_dict, open('index_dict.pkl', 'wb'))"
   ]
  },
  {
   "cell_type": "markdown",
   "metadata": {},
   "source": [
    "### We conclude till here, next we proceed further towards productionising the model."
   ]
  }
 ],
 "metadata": {
  "interpreter": {
   "hash": "0713537606d3f2cf22c57d033a96e9ad105dfcb2276fb2f897deb68adf6c90bd"
  },
  "kernelspec": {
   "display_name": "Python 3.10.2 ('minimal_ds2')",
   "language": "python",
   "name": "python3"
  },
  "language_info": {
   "codemirror_mode": {
    "name": "ipython",
    "version": 3
   },
   "file_extension": ".py",
   "mimetype": "text/x-python",
   "name": "python",
   "nbconvert_exporter": "python",
   "pygments_lexer": "ipython3",
   "version": "3.10.2"
  },
  "orig_nbformat": 4
 },
 "nbformat": 4,
 "nbformat_minor": 2
}
